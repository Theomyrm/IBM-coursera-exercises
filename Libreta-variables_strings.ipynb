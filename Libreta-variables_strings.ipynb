{
 "cells": [
  {
   "cell_type": "code",
   "execution_count": 2,
   "metadata": {},
   "outputs": [],
   "source": [
    "\"\"\"                                                \n",
    "\n",
    "#  #  #  #  #  #  #  #  #  #  #  #  #  #  #  #  #  #  #  #  #  #  #  #\n",
    "\n",
    "#                    Notes:                  #         By:           #\n",
    "\n",
    "#    About python variables and operators    #       T.Myrm          #\n",
    "\n",
    "#          With feat some turtle fun         #  #  #  #  #  #  #  #  #  \n",
    "\n",
    "#                    Enjoy                   #   #Python #Variables  #           \n",
    "\n",
    "#  #  #  #  #  #  #  #  #  #  #  #  #  #  #  #  #  #  #  #  #  #  #  #\n",
    "\n",
    "\"\"\"                                "
   ]
  },
  {
   "cell_type": "code",
   "execution_count": 15,
   "metadata": {},
   "outputs": [
    {
     "data": {
      "text/plain": [
       "float"
      ]
     },
     "execution_count": 15,
     "metadata": {},
     "output_type": "execute_result"
    }
   ],
   "source": [
    "# Most used variable types on python are:\n",
    "\n",
    "int(1) #Integer; used for store whole values, with no decimals.\n",
    "float(1.0) #Float; store numbers with decimals.\n",
    "str(12) #String; stores literal characters, taking no numeric value, used to store strings of characters.\n",
    "bool(1) #Bool; stores logic values True, False.\n",
    "\n",
    "# Useful methods\n",
    "\n",
    "# 1. type(x) --> used for printing the type of variable x\n",
    "## Examples:\n",
    "\n",
    "x = 15.0 # The .0 still counts as float. So ->\n",
    "# The type of x is \n",
    "type(x)\n",
    "\n",
    "y = 13 # This number has no decimals ->\n",
    "type(y)\n",
    "\n",
    "z = \"This is a string\" # Stores words and characters\n",
    "type(z)\n",
    "\n",
    "w = False # Store boolean value (True or False)\n",
    "type(w)\n",
    "\n",
    "# 2. var(x) --> convert a type of var to other.\n",
    "## Examples:\n",
    "\n",
    "str(x) # converts 15.0 to \"15.0\" string\n",
    "\n",
    "int(x) # converts 15.0 to 15 int\n"
   ]
  },
  {
   "cell_type": "code",
   "execution_count": 22,
   "metadata": {},
   "outputs": [
    {
     "name": "stdout",
     "output_type": "stream",
     "text": [
      "a\n",
      "b\n",
      "c\n",
      "g\n",
      "f\n",
      "e\n",
      "abc\n",
      "aceg\n",
      "bdf\n",
      "The total number of characters on str1 string are 7\n",
      "abcdefg Are the firts 7 letters of the alphabet\n"
     ]
    }
   ],
   "source": [
    "\"\"\"\n",
    "\n",
    "#  #  #  #  #  #\n",
    "\n",
    "#  Operations: #\n",
    "\n",
    "#  Arithmetics #\n",
    "\n",
    "#  String Ops  #\n",
    "\n",
    "#  #  #  #  #  #\n",
    "\n",
    "\n",
    "\"\"\"\n",
    "\n",
    "# Arithmetic operations:\n",
    "\n",
    "2  + 3  # +  = adition\n",
    "2  - 3  # -  = substraction\n",
    "2  * 3  # *  = multiplication\n",
    "2  / 3  # /  = division\n",
    "2 // 3  # // = floor division\n",
    "2 ** 3  # ** = exponentiation\n",
    "2  % 3  # %  = modulus\n",
    "\n",
    "\n",
    "\n",
    "# Declare a string\n",
    "\n",
    "str1 = \"abcdefg\" ## Each character has an index\n",
    "\n",
    "#   [0,1,2,3,4,5,6] each number represents a place on the string\n",
    "                    # This can be aplied backwise\n",
    "#   [-7,-6,-5,-4,-3,-2,-1] this is counted from end to beginning \n",
    "        \n",
    "       # Examples:\n",
    "        \n",
    "c1 = str1[0]  # this is = a\n",
    "print(c1)\n",
    "c2 = str1[1]  # this is = b\n",
    "print(c2)\n",
    "c3 = str1[2]  # this is = c\n",
    "print(c3)\n",
    "c7 = str1[-1] # this is = g\n",
    "print(c7)\n",
    "c6 = str1[-2] # this is = f\n",
    "print(c6)\n",
    "c5 = str1[-3] # this is = e\n",
    "print(c5)\n",
    "\n",
    "# There is also the possibility of using a range of elements of a string\n",
    "# This can be done using the ':' simbol to specify a range. For example:\n",
    "\n",
    "       # Examples:\n",
    "\n",
    "c1_3 = str1[0:3]   # this is = abc\n",
    "print(c1_3)\n",
    "\n",
    "# Other things, like using a stride may have different results:\n",
    "\n",
    "c1_3_5_7 = str1[::2]  # this is = aceg\n",
    "print(c1_3_5_7)\n",
    "c2_4_6 = str1[1:7:2] # this is = bdf\n",
    "#            [1(starting point):7(lenght of interval):2(steps)]\n",
    "print(c2_4_6)\n",
    "\n",
    "# Function len() returns number of characters on string:\n",
    "\n",
    "print(\"The total number of characters on str1 string are\", len(str1))\n",
    "\n",
    "# There are many ways of manipulating strings:\n",
    "\n",
    "# Adition of strings with other strings\n",
    "\n",
    "statement = str1 + \" Are the firts 7 letters of the alphabet\"\n",
    "print(statement)\n"
   ]
  },
  {
   "cell_type": "code",
   "execution_count": null,
   "metadata": {},
   "outputs": [],
   "source": []
  }
 ],
 "metadata": {
  "kernelspec": {
   "display_name": "Python 3",
   "language": "python",
   "name": "python3"
  },
  "language_info": {
   "codemirror_mode": {
    "name": "ipython",
    "version": 3
   },
   "file_extension": ".py",
   "mimetype": "text/x-python",
   "name": "python",
   "nbconvert_exporter": "python",
   "pygments_lexer": "ipython3",
   "version": "3.9.7"
  }
 },
 "nbformat": 4,
 "nbformat_minor": 4
}
