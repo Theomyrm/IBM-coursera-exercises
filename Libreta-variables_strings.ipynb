{
 "cells": [
  {
   "cell_type": "code",
   "execution_count": 2,
   "metadata": {},
   "outputs": [],
   "source": [
    "\"\"\"                                                \n",
    "\n",
    "                    #  #  #  #  #  #  #  #  #  #  #  #  #  #  #  #  #  #  #  #  #  #  #  #\n",
    "\n",
    "                    #                    Notes:                  #         By:           #\n",
    "\n",
    "                    #    About python variables and operators    #       T.Myrm          #\n",
    "\n",
    "                    #          With feat some turtle fun         #  #  #  #  #  #  #  #  #  \n",
    "\n",
    "                    #                    Enjoy                   #   #Python #Variables  #           \n",
    "\n",
    "                    #  #  #  #  #  #  #  #  #  #  #  #  #  #  #  #  #  #  #  #  #  #  #  #\n",
    "\n",
    "\"\"\"                                "
   ]
  },
  {
   "cell_type": "code",
   "execution_count": 15,
   "metadata": {},
   "outputs": [
    {
     "data": {
      "text/plain": [
       "float"
      ]
     },
     "execution_count": 15,
     "metadata": {},
     "output_type": "execute_result"
    }
   ],
   "source": [
    "# Most used variable types on python are:\n",
    "\n",
    "int(1) #Integer; used for store whole values, with no decimals.\n",
    "float(1.0) #Float; store numbers with decimals.\n",
    "str(12) #String; stores literal characters, taking no numeric value, used to store strings of characters.\n",
    "bool(1) #Bool; stores logic values True, False.\n",
    "\n",
    "# Useful methods\n",
    "\n",
    "# 1. type(x) --> used for printing the type of variable x\n",
    "\n",
    "## Let's declare a variables:\n",
    "\n",
    "x = 15.0 # The .0 still counts as float. So ->\n",
    "# The type of x is \n",
    "type(x)\n",
    "\n",
    "y = 13 # This number has no decimals ->\n",
    "type(y)\n",
    "\n",
    "z = \"This is a string\" # Stores words and characters\n",
    "type(z)\n",
    "\n",
    "w = False # Store boolean value (True or False)\n",
    "type(w)\n"
   ]
  }
 ],
 "metadata": {
  "kernelspec": {
   "display_name": "Python 3",
   "language": "python",
   "name": "python3"
  },
  "language_info": {
   "codemirror_mode": {
    "name": "ipython",
    "version": 3
   },
   "file_extension": ".py",
   "mimetype": "text/x-python",
   "name": "python",
   "nbconvert_exporter": "python",
   "pygments_lexer": "ipython3",
   "version": "3.9.7"
  }
 },
 "nbformat": 4,
 "nbformat_minor": 4
}
