{
 "cells": [
  {
   "cell_type": "code",
   "execution_count": null,
   "metadata": {},
   "outputs": [],
   "source": [
    "\"\"\"                                                \n",
    "#  #  #  #  #  #  #  #  #  #  #  #  #  #  #  #  #  #  #  #  #  #  #  #\n",
    "\n",
    "#                  Notes 2:                  #         By:           #\n",
    "\n",
    "#         About python tuples, lists         #       T.Myrm          #\n",
    "\n",
    "#               and dictionaries             #  #  #  #  #  #  #  #  #  \n",
    "\n",
    "#                    Enjoy                   #     #Python #sets     #           \n",
    "\n",
    "#  #  #  #  #  #  #  #  #  #  #  #  #  #  #  #  #  #  #  #  #  #  #  #\n",
    "\n",
    "\"\"\"                                "
   ]
  },
  {
   "cell_type": "code",
   "execution_count": 46,
   "metadata": {},
   "outputs": [
    {
     "name": "stdout",
     "output_type": "stream",
     "text": [
      "Here, the tuple:  (True, 12, 'Monke', 25.111) \n",
      "now, some elements:  True  <- tup0  12  <- tup1 \n",
      "\n",
      "\n",
      "Look at tuple2:  (True, 12, 'Monke', 25.111, 'Monkes', 'Arena') \n",
      "The following 2 variables were stored. Watch this with negative indexes:  Monkes  [-2]  Arena  [-1] \n",
      "As we can see, our tuple, using the explained logic has our desired members:  ('re', 'loop') \n",
      "\n",
      "\n",
      "Let's access the first element of multiTuple tuple:  (12, 19, 24)\n",
      "Now, let's access the first element of the first tuple:  12\n"
     ]
    }
   ],
   "source": [
    "### Lists and tuples are compound data types.\n",
    "\n",
    "## Tuples:\n",
    "            # Tuples are sets of data capable of storing any kind of data.\n",
    "            # It has a specific sequence and are immutable, you can't add or remove elements to tuples.\n",
    "# For example:\n",
    "tuple1 = (True, 12, \"Monke\", 25.111) ## Stores data in sequence. Can be accesed by indexes too:\n",
    "\n",
    "tup0 = tuple1[0] # This = True\n",
    "tup1 = tuple1[1] # This = 12\n",
    "tup2 = tuple1[2] # This = \"Monke\" -> You get the logic.\n",
    "## Let's see our tuple and elements:\n",
    "print(r\"Here, the tuple: \", tuple1, \"\\nnow, some elements: \", tup0, \" <- tup0 \", tup1, \" <- tup1 \\n\")\n",
    "# Negative indexes can be used too.\n",
    "\n",
    "# tuples can be concatenated like this:\n",
    "\n",
    "tuple2 = tuple1 + (\"Monkes\", \"Arena\")\n",
    "## Let's see the new elements\n",
    "print(\"\\nLook at tuple2: \", tuple2, \"\\nThe following 2 variables were stored. Watch this with negative indexes: \"\n",
    "      ,tuple2[-2], \" [-2] \", tuple2[-1], \" [-1] \")\n",
    "\n",
    "## As in strings, we can access multiple index points in a tuple by slicing.\n",
    "\n",
    "            ## !! REMEMBER !!: \n",
    "                             # Indexes in python follow this logic, as knowned:\n",
    "                             # if tuple has xn elements, to acces the index we \n",
    "                             # use xn-1. : Element ( a , b , c)\n",
    "                             #           : Index   [ 0 , 1 , 2]\n",
    "            ## When you slice, you follow this logic in order to cut the desired elements;\n",
    "\n",
    "                             # If you have a slice of a init length a and end length b:\n",
    "                             # Slice:                a - - - - b\n",
    "                             #                  [a = xn-1]   [b = xn]\n",
    "                             # You start with a xn-1 and end selection with xn \n",
    "## Examples of this:\n",
    "\n",
    "## with a tuple m with the following elements\n",
    "\n",
    "tuplem = (\"e\", \"re\", \"loop\", \"men\")\n",
    "\n",
    "## In order to slice, for example, \"re\" and \"loop\" with need to use the following numerical relationship:\n",
    "\n",
    "## Let's store the index value with index function\n",
    "reNum = tuplem.index(\"re\") # Index function returns the index value of an element. So, reNum, must be = 1\n",
    "loopNum = tuplem.index(\"loop\") # Using the same logic as above, loopNum = 2\n",
    "\n",
    "# Now, using our formula as followed (where index() function uses xn - 1 to look index)\n",
    "\n",
    "a = reNum # Total elements of tuplem = 4. \"re\" = 2nd element. 2 - 1 = 1\n",
    "b = loopNum + 1 # \"loop\" = 3rd element. 3 - 1 = 2. 2 + 1 = 3. Using plain xn\n",
    "\n",
    "# Therefore!, let's see if it works.\n",
    "\n",
    "re_loop = tuplem[a:b] # This must be a tuple with \"re\" and loop elements.\n",
    "print(\"As we can see, our tuple, using the explained logic has our desired members: \", re_loop, \"\\n\\n\")\n",
    "\n",
    "## Nesting on tuples:\n",
    "\n",
    "## tuples can be nested, this means, a tuple can contain multiple tuples:\n",
    "\n",
    "multiTuple = (( 12, 19, 24 ), (\"eagle\", \"fish\", \"toscana\", ( \"pizza\", \"rat\" )), ( True, False, True ))\n",
    "\n",
    "## When using indexes, in this case, we follow the same logic, but take a nested tuple, as an element.\n",
    "\n",
    "print(\"Let's access the first element of multiTuple tuple: \", multiTuple[0]) # ---> (12, 19, 24)\n",
    "\n",
    "## If you want to index an element on a specific tuple, you use double indexes as the following:\n",
    "\n",
    "print(\"Now, let's access the first element of the first tuple: \",multiTuple[0][0], \"\\n\") # ---> (12)\n",
    "\n",
    "\n",
    "\n",
    "\n"
   ]
  },
  {
   "cell_type": "code",
   "execution_count": 42,
   "metadata": {},
   "outputs": [
    {
     "name": "stdout",
     "output_type": "stream",
     "text": [
      "The total length of tuple is: 4 \n",
      "\n",
      "Alphabetic:\n",
      "['e', 'g', 'z'] \n",
      "\n",
      "Numeric:\n",
      "[4, 5, 8]\n"
     ]
    }
   ],
   "source": [
    "## Let's see other methods:\n",
    "\n",
    "## len(): Uses the same logic as in strings, but returns the total number of elements present on a tuple or list\n",
    "print(\"The total length of tuple is:\" ,len((\"a\", \"b\", \"c\" ,\"d\")), \"\\n\") # This must be = 4.\n",
    "\n",
    "## sorted(): sorts alphabetic OR numeric values\n",
    "print(\"Alphabetic:\")\n",
    "print(sorted((\"g\", \"z\", \"e\")), \"\\n\")\n",
    "\n",
    "print(\"Numeric:\")\n",
    "print(sorted((5, 8, 4)))\n",
    "\n",
    "\n",
    "\n"
   ]
  }
 ],
 "metadata": {
  "kernelspec": {
   "display_name": "Python 3",
   "language": "python",
   "name": "python3"
  },
  "language_info": {
   "codemirror_mode": {
    "name": "ipython",
    "version": 3
   },
   "file_extension": ".py",
   "mimetype": "text/x-python",
   "name": "python",
   "nbconvert_exporter": "python",
   "pygments_lexer": "ipython3",
   "version": "3.9.7"
  }
 },
 "nbformat": 4,
 "nbformat_minor": 4
}
