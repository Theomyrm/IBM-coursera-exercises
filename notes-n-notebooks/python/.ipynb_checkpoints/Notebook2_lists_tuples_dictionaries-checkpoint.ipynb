{
 "cells": [
  {
   "cell_type": "code",
   "execution_count": null,
   "metadata": {},
   "outputs": [],
   "source": [
    "\"\"\"                                                \n",
    "#  #  #  #  #  #  #  #  #  #  #  #  #  #  #  #  #  #  #  #  #  #  #  #\n",
    "\n",
    "#                  Notes 2:                  #         By:           #\n",
    "\n",
    "#         About python tuples, lists         #       T.Myrm          #\n",
    "\n",
    "#               and dictionaries             #  #  #  #  #  #  #  #  #  \n",
    "\n",
    "#                    Enjoy                   #     #Python #sets     #           \n",
    "\n",
    "#  #  #  #  #  #  #  #  #  #  #  #  #  #  #  #  #  #  #  #  #  #  #  #\n",
    "\n",
    "\"\"\"                                "
   ]
  },
  {
   "cell_type": "code",
   "execution_count": 16,
   "metadata": {},
   "outputs": [
    {
     "name": "stdout",
     "output_type": "stream",
     "text": [
      "Here, the tuple:  (True, 12, 'Monke', 25.111) \n",
      "now, some elements:  True  <- tup0  12  <- tup1 \n",
      "\n",
      "\n",
      "Look at tuple2:  (True, 12, 'Monke', 25.111, 'Monkes', 'Arena') \n",
      "The following 2 variables were stored. Watch this with negative indexes:  Monkes  [-2]  Arena  [-1] \n"
     ]
    }
   ],
   "source": [
    "### Lists and tuples are compound data types.\n",
    "\n",
    "## Tuples:\n",
    "            # Tuples are sets of data capable of storing any kind of data.\n",
    "            # It has a specific sequence.\n",
    "# For example:\n",
    "tuple1 = (True, 12, \"Monke\", 25.111) ## Stores data in sequence. Can be accesed by indexes too:\n",
    "\n",
    "tup0 = tuple1[0] # This = True\n",
    "tup1 = tuple1[1] # This = 12\n",
    "tup2 = tuple1[2] # This = \"Monke\" -> You get the logic.\n",
    "## Let's see our tuple and elements:\n",
    "print(r\"Here, the tuple: \", tuple1, \"\\nnow, some elements: \", tup0, \" <- tup0 \", tup1, \" <- tup1 \\n\")\n",
    "# Negative indexes can be used too.\n",
    "\n",
    "# tuples can be concatenated like this:\n",
    "\n",
    "tuple2 = tuple1 + (\"Monkes\", \"Arena\")\n",
    "## Let's see the new elements\n",
    "print(\"\\nLook at tuple2: \", tuple2, \"\\nThe following 2 variables were stored. Watch this with negative indexes: \"\n",
    "      ,tuple2[-2], \" [-2] \", tuple2[-1], \" [-1] \")\n",
    "\n",
    "\n",
    "\n"
   ]
  }
 ],
 "metadata": {
  "kernelspec": {
   "display_name": "Python 3",
   "language": "python",
   "name": "python3"
  },
  "language_info": {
   "codemirror_mode": {
    "name": "ipython",
    "version": 3
   },
   "file_extension": ".py",
   "mimetype": "text/x-python",
   "name": "python",
   "nbconvert_exporter": "python",
   "pygments_lexer": "ipython3",
   "version": "3.9.7"
  }
 },
 "nbformat": 4,
 "nbformat_minor": 4
}
