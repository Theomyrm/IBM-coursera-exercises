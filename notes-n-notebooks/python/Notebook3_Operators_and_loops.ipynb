{
 "cells": [
  {
   "cell_type": "code",
   "execution_count": 10,
   "metadata": {},
   "outputs": [
    {
     "name": "stdout",
     "output_type": "stream",
     "text": [
      "                                                \n",
      "#  #  #  #  #  #  #  #  #  #  #  #  #  #  #  #  #  #  #  #  #  #  #  #  #  #  #  #  #  #  #  #  #  #  #  #  #  #  #  #  #  #  \n",
      "\n",
      "#                  Notes 3:                  #         By:           #            ----------- Index: -----------           #\n",
      "\n",
      "#                 Operators                  #       T.Myrm          #           * Logical Operators                       #\n",
      "\n",
      "#                 and loops.                 #  #  #  #  #  #  #  #  #           * Loops                                   #\n",
      "\n",
      "#                    Enjoy                   #  #Loops  #Operators   #           * for, while                              #\n",
      "\n",
      "#  #  #  #  #  #  #  #  #  #  #  #  #  #  #  #  #  #  #  #  #  #  #  #  #  #  #  #  #  #  #  #  #  #  #  #  #  #  #  #  #  #  \n",
      "\n",
      "\n"
     ]
    }
   ],
   "source": [
    "print(\"\"\"                                                \n",
    "#  #  #  #  #  #  #  #  #  #  #  #  #  #  #  #  #  #  #  #  #  #  #  #  #  #  #  #  #  #  #  #  #  #  #  #  #  #  #  #  #  #  \n",
    "\n",
    "#                  Notes 3:                  #         By:           #            ----------- Index: -----------           #\n",
    "\n",
    "#                 Operators                  #       T.Myrm          #           * Logical Comparison/Operators            #\n",
    "\n",
    "#                 and loops.                 #  #  #  #  #  #  #  #  #           * Loops                                   #\n",
    "\n",
    "#                    Enjoy                   #  #Loops  #Operators   #           * for, while                              #\n",
    "\n",
    "#  #  #  #  #  #  #  #  #  #  #  #  #  #  #  #  #  #  #  #  #  #  #  #  #  #  #  #  #  #  #  #  #  #  #  #  #  #  #  #  #  #  \n",
    "\n",
    "\"\"\")                 "
   ]
  },
  {
   "cell_type": "code",
   "execution_count": 17,
   "metadata": {},
   "outputs": [
    {
     "name": "stdout",
     "output_type": "stream",
     "text": [
      "Tell me, is x bigger than 9?? No, that is False\n",
      "False\n",
      "True\n",
      "False\n",
      "True\n",
      "True\n",
      "False\n"
     ]
    }
   ],
   "source": [
    "### Comparison Operators\n",
    "\n",
    "## One of the most powerful tools a programming lenguage has, and part of all the logic behind variables and values is having\n",
    "## the capacity of comparing values and taking decisions regarding the values. In order to accomplish this, we need to use,\n",
    "## at first glance, the logical operators or comparison operators. Let's make an example.\n",
    "\n",
    "x = 8      # First we define a variable x with a value of 8\n",
    "\n",
    "statement = x > 9   # Then, we make our first statement; Is x bigger than 9?. The answer: False.\n",
    "\n",
    "print(\"Tell me, is x bigger than 9??\", \"No, that is\", statement) \n",
    "\n",
    "## Statements like above usually returns a boolean as an answer.\n",
    "\n",
    "\n",
    "## Now, before we go to conditionals and branching, we're going to check which are the Comparison operators:\n",
    "\n",
    "y = 0    ## <---- Be sure to change this value with whatever value you want in order to make the following logical tests\n",
    "\n",
    "print(y > 9)    ## First, the symbol we've used; Bigger than. If the value on the right is bigger than the value on the left, returns True\n",
    "\n",
    "print(y < 4)    ## Then, the less than value. Has the same principle than the previous operator but backwards.\n",
    "\n",
    "print(y >= 3)   ## The greater or equal to. Now, the value can be equal or bigger than the other value.\n",
    "\n",
    "print(y <= 12)  ## Same principle as above, but with less\n",
    "\n",
    "print(y == 0)   ## Double equal signs is not an statement but an answer. Is y equal to 0??\n",
    "\n",
    "print(y!= 0)        ## Now, an ! sign, means the opposite. Is y not equal to 0??\n"
   ]
  },
  {
   "cell_type": "code",
   "execution_count": null,
   "metadata": {},
   "outputs": [],
   "source": [
    "### Conditionals\n",
    "\n",
    "## Now we got the point on how to compare, let's see why to do it with conditionals.\n",
    "## Conditionals are meant to branch the computation on a program, and we use them a lot to have our desired outputs\n",
    "## First, let's review the types of conditionals. But!, before that, let's talk about something important on python called\n",
    "## indentation:\n",
    "\n",
    "\n",
    "### Indentation:\n",
    "\n",
    "## Python is distinguished by all for being an easy lenguage to learn because it's comprehensive syntax similar to english.\n",
    "## This means, we don't have to use things like a if with syntaxes like this: if(){}. In order to have hierarchy and order\n",
    "## instead of using that kind of syntax we use indentation:\n",
    "\n",
    "## if we have something like this:\n",
    "\n",
    "# x = 5\n",
    "# y = 6\n",
    "\n",
    "## And after, we want to make a conditional like an if, we must use indentation in order to differenciate between what are\n",
    "## the following commands after that if, and after that, we indent:\n",
    "\n",
    "# x = 5\n",
    "# y = 6\n",
    "#\n",
    "# if x == 5: <----- after the :\n",
    "#     print('hi') <---- we must use a tab on this line to follow the if statement\n",
    "#\n",
    "#\n",
    "\n",
    "## Now we have this in mind, let's start with the conditionals\n",
    "\n",
    "## if statement:\n",
    "## the if statement is used to produce different outputs regarding a condition that stablishes the statement:\n",
    "\n",
    "x = 'Monke'\n",
    "\n",
    "if (x == 'Monke'): # <---------- first, we use the 'if' statement, then, put the condition \n",
    "    print('Monke is Alive!') # <------ then, we stablish a consequence. What happens if x == 'Monke'? PD: Remember the indentation!\n",
    "## This is a basic 'if' conditional. Other keyword that is used a lot is the statement 'else'\n",
    "else:\n",
    "     print('Monke is not here...') # <- this is what happens in the case x != 'Monke'\n",
    "\n",
    "\n",
    "\n",
    "\n"
   ]
  }
 ],
 "metadata": {
  "kernelspec": {
   "display_name": "Python 3",
   "language": "python",
   "name": "python3"
  },
  "language_info": {
   "codemirror_mode": {
    "name": "ipython",
    "version": 3
   },
   "file_extension": ".py",
   "mimetype": "text/x-python",
   "name": "python",
   "nbconvert_exporter": "python",
   "pygments_lexer": "ipython3",
   "version": "3.9.7"
  }
 },
 "nbformat": 4,
 "nbformat_minor": 4
}
