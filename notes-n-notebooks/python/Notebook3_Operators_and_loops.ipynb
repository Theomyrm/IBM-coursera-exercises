{
 "cells": [
  {
   "cell_type": "code",
   "execution_count": 10,
   "metadata": {},
   "outputs": [
    {
     "name": "stdout",
     "output_type": "stream",
     "text": [
      "                                                \n",
      "#  #  #  #  #  #  #  #  #  #  #  #  #  #  #  #  #  #  #  #  #  #  #  #  #  #  #  #  #  #  #  #  #  #  #  #  #  #  #  #  #  #  \n",
      "\n",
      "#                  Notes 3:                  #         By:           #            ----------- Index: -----------           #\n",
      "\n",
      "#                 Operators                  #       T.Myrm          #           * Logical Operators                       #\n",
      "\n",
      "#                 and loops.                 #  #  #  #  #  #  #  #  #           * Loops                                   #\n",
      "\n",
      "#                    Enjoy                   #  #Loops  #Operators   #           * for, while                              #\n",
      "\n",
      "#  #  #  #  #  #  #  #  #  #  #  #  #  #  #  #  #  #  #  #  #  #  #  #  #  #  #  #  #  #  #  #  #  #  #  #  #  #  #  #  #  #  \n",
      "\n",
      "\n"
     ]
    }
   ],
   "source": [
    "print(\"\"\"                                                \n",
    "#  #  #  #  #  #  #  #  #  #  #  #  #  #  #  #  #  #  #  #  #  #  #  #  #  #  #  #  #  #  #  #  #  #  #  #  #  #  #  #  #  #  \n",
    "\n",
    "#                  Notes 3:                  #         By:           #            ----------- Index: -----------           #\n",
    "\n",
    "#                 Operators                  #       T.Myrm          #           * Logical Comparison/Operators            #\n",
    "\n",
    "#                 and loops.                 #  #  #  #  #  #  #  #  #           * Loops                                   #\n",
    "\n",
    "#                    Enjoy                   #  #Loops  #Operators   #           * for, while                              #\n",
    "\n",
    "#  #  #  #  #  #  #  #  #  #  #  #  #  #  #  #  #  #  #  #  #  #  #  #  #  #  #  #  #  #  #  #  #  #  #  #  #  #  #  #  #  #  \n",
    "\n",
    "\"\"\")                 "
   ]
  },
  {
   "cell_type": "code",
   "execution_count": 17,
   "metadata": {},
   "outputs": [
    {
     "name": "stdout",
     "output_type": "stream",
     "text": [
      "Tell me, is x bigger than 9?? No, that is False\n",
      "False\n",
      "True\n",
      "False\n",
      "True\n",
      "True\n",
      "False\n"
     ]
    }
   ],
   "source": [
    "### Comparison Operators\n",
    "\n",
    "## One of the most powerful tools a programming lenguage has, and part of all the logic behind variables and values is having\n",
    "## the capacity of comparing values and taking decisions regarding the values. In order to accomplish this, we need to use,\n",
    "## at first glance, the logical operators or comparison operators. Let's make an example.\n",
    "\n",
    "x = 8      # First we define a variable x with a value of 8\n",
    "\n",
    "statement = x > 9   # Then, we make our first statement; Is x bigger than 9?. The answer: False.\n",
    "\n",
    "print(\"Tell me, is x bigger than 9??\", \"No, that is\", statement) \n",
    "\n",
    "## Statements like above usually returns a boolean as an answer.\n",
    "\n",
    "\n",
    "## Now, before we go to conditionals and branching, we're going to check which are the Comparison operators:\n",
    "\n",
    "y = 0    ## <---- Be sure to change this value with whatever value you want in order to make the following logical tests\n",
    "\n",
    "print(y > 9)    ## First, the symbol we've used; Bigger than. If the value on the right is bigger than the value on the left, returns True\n",
    "\n",
    "print(y < 4)    ## Then, the less than value. Has the same principle than the previous operator but backwards.\n",
    "\n",
    "print(y >= 3)   ## The greater or equal to. Now, the value can be equal or bigger than the other value.\n",
    "\n",
    "print(y <= 12)  ## Same principle as above, but with less\n",
    "\n",
    "print(y == 0)   ## Double equal signs is not an statement but an answer. Is y equal to 0??\n",
    "\n",
    "print(y!= 0)        ## Now, an ! sign, means the opposite. Is y not equal to 0??\n"
   ]
  },
  {
   "cell_type": "code",
   "execution_count": 19,
   "metadata": {},
   "outputs": [
    {
     "name": "stdout",
     "output_type": "stream",
     "text": [
      "Monke is Alive!\n",
      "Mini Monke is in tha houseeee\n"
     ]
    }
   ],
   "source": [
    "### Conditionals\n",
    "\n",
    "## Now we got the point on how to compare, let's see why to do it with conditionals.\n",
    "## Conditionals are meant to branch the computation on a program, and we use them a lot to have our desired outputs\n",
    "## First, let's review the types of conditionals. But!, before that, let's talk about something important on python called\n",
    "## indentation:\n",
    "\n",
    "\n",
    "### Indentation:\n",
    "\n",
    "## Python is distinguished by all for being an easy lenguage to learn because it's comprehensive syntax similar to english.\n",
    "## This means, we don't have to use things like a if with syntaxes like this: if(){}. In order to have hierarchy and order\n",
    "## instead of using that kind of syntax we use indentation:\n",
    "\n",
    "## if we have something like this:\n",
    "\n",
    "# x = 5\n",
    "# y = 6\n",
    "\n",
    "## And after, we want to make a conditional like an if, we must use indentation in order to differenciate between what are\n",
    "## the following commands after that if, and after that, we indent:\n",
    "\n",
    "# x = 5\n",
    "# y = 6\n",
    "#\n",
    "# if x == 5: <----- after the :\n",
    "#     print('hi') <---- we must use a tab on this line to follow the if statement\n",
    "#\n",
    "#\n",
    "\n",
    "## Now we have this in mind, let's start with the conditionals\n",
    "\n",
    "## if statement:\n",
    "## the if statement is used to produce different outputs regarding a condition that stablishes the statement:\n",
    "\n",
    "x = 'Monke'\n",
    "\n",
    "if (x == 'Monke'): # <---------- first, we use the 'if' statement, then, put the condition \n",
    "    print(x, 'is Alive!') # <------ then, we stablish a consequence. What happens if x == 'Monke'? PD: Remember the indentation!\n",
    "## This is a basic 'if' conditional. Other keyword that is used a lot is the statement 'else'\n",
    "else:\n",
    "     print(x, 'is not here...') # <- this is what happens in the case x != 'Monke'\n",
    "\n",
    "## There is other conditional that combines the power of the two previous statements: the 'elif' statement.\n",
    "## This statement is used to have multiple options within an if:\n",
    "\n",
    "x = 'Mini Monke'\n",
    "\n",
    "if (x == 'Monke'):\n",
    "    print(x, 'is Alive!') \n",
    "elif (x == 'Mini Monke'):\n",
    "    print(x, 'is in tha houseeee') # <----- As we can see, this makes a new branch, where the expected value is different from \n",
    "                                    #        the first one, but, it's also specific.\n",
    "else: # <------------------ # Not like else, which only cares if the 'if' statement is false.\n",
    "     print(x, 'is not here...') \n"
   ]
  },
  {
   "cell_type": "code",
   "execution_count": 20,
   "metadata": {},
   "outputs": [
    {
     "name": "stdout",
     "output_type": "stream",
     "text": [
      "Is x == 6 and y == 8?  True\n",
      "Is x == 6 and y == 8?  False\n",
      "Is x == 6 or y == 8?  True\n",
      "Is x == 6 or y == 8?  False\n"
     ]
    }
   ],
   "source": [
    "### Logical operators:\n",
    "\n",
    "## Now that we now how to make comparisons and conditionals, we must know how to make logical assumptions with logical operators:\n",
    "## Logical operators are used to make complex statements, making possible to make comparisons with multiple relations and \n",
    "## variables. This is super useful when we need to make more complex if-else branches:\n",
    "\n",
    "## The logic operators are the following:\n",
    "\n",
    "# and: returns true only and only if all the variables correspond to the statement:\n",
    "\n",
    "x = 6\n",
    "y = 8\n",
    "andStatement = (x == 6 and y == 8) ## <--- If the first statement AND the second are true, returns True. Else, returns false\n",
    "print('Is x == 6 and y == 8? ', andStatement)\n",
    "\n",
    "x = 6\n",
    "y = 4\n",
    "andStatement = (x == 6 and y == 8) ## <--- Here, as y !=8, and the statement must be all true, it returns false\n",
    "print('Is x == 6 and y == 8? ', andStatement)\n",
    "\n",
    "# or: returns true if one or more of the variables corresponds to the statement:\n",
    "\n",
    "x = 6\n",
    "y = 4\n",
    "orStatement = (x == 6 or y == 8) ## <--- If the first statement OR the second are true, returns True. Else, returns false\n",
    "print('Is x == 6 or y == 8? ', orStatement)\n",
    "\n",
    "## This means that it doesn't have to be perfectly equal to, if just one of the elements is true, the 'or' operation is true.\n",
    "## In order to make it false, all the statements must be false\n",
    "\n",
    "x = 0\n",
    "y = 0\n",
    "orStatement = (x == 6 or y == 8) ## <--- This is false, as neither of the variables are equal to the statement\n",
    "print('Is x == 6 or y == 8? ', orStatement)"
   ]
  },
  {
   "cell_type": "code",
   "execution_count": 23,
   "metadata": {},
   "outputs": [
    {
     "data": {
      "text/plain": [
       "range(0, 3)"
      ]
     },
     "execution_count": 23,
     "metadata": {},
     "output_type": "execute_result"
    }
   ],
   "source": [
    "### The Range function.\n",
    "\n",
    "## range() function is one of the must used functions in loops. range() gives us a range of numbers:\n",
    "\n",
    "## if range() has an int as an argument i, the range makes a tuple of the number 0 and i and returns the sequence:\n",
    "\n",
    "x = range(3) ## The output is a tuple (0, 3)\n",
    "x\n",
    "\n",
    "## If we put two ints as arguments i, j. The range makes a sequence of the numbers between i and j-1, meaning that j is not\n",
    "## part of the tuple:\n",
    "\n",
    "x = range(0, 5) ## The output is a tuple (0, 1, 2, 3, 4)\n"
   ]
  },
  {
   "cell_type": "code",
   "execution_count": 21,
   "metadata": {},
   "outputs": [],
   "source": [
    "### Loops"
   ]
  }
 ],
 "metadata": {
  "kernelspec": {
   "display_name": "Python 3",
   "language": "python",
   "name": "python3"
  },
  "language_info": {
   "codemirror_mode": {
    "name": "ipython",
    "version": 3
   },
   "file_extension": ".py",
   "mimetype": "text/x-python",
   "name": "python",
   "nbconvert_exporter": "python",
   "pygments_lexer": "ipython3",
   "version": "3.9.7"
  }
 },
 "nbformat": 4,
 "nbformat_minor": 4
}
